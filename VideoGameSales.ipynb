{
 "cells": [
  {
   "cell_type": "code",
   "execution_count": 1,
   "metadata": {
    "collapsed": false
   },
   "outputs": [],
   "source": [
    "#COS30019 - Assignment 2\n",
    "#Video Game Sales Prediction\n",
    "#Leslie Ling (4331990)\n",
    "#Hwang Chae Hyun (100070579)\n",
    "\n",
    "\n",
    "#scikit-learn \n",
    "\n",
    "import numpy as np\n",
    "import pandas as pd\n",
    "\n",
    "#graph plotting\n",
    "import matplotlib.pyplot as plt\n",
    "import matplotlib\n",
    "\n",
    "#training & test, cross validation\n",
    "from sklearn.model_selection import train_test_split, cross_val_score, KFold \n",
    "\n",
    "#clasification\n",
    "from sklearn.metrics \t\t import accuracy_score, classification_report\n",
    "\n",
    "#algorithms\n",
    "from sklearn.tree \t\t\t import DecisionTreeClassifier\n",
    "from sklearn.neighbors \t\t import KNeighborsClassifier\n",
    "from sklearn.naive_bayes \t import GaussianNB\n",
    "from sklearn.svm \t\t\t import SVC\n",
    "from sklearn.preprocessing \t import LabelEncoder\n",
    "from sklearn.linear_model \t import LogisticRegression\n",
    "from sklearn.ensemble \t\t import RandomForestClassifier\n",
    "\n",
    "\n"
   ]
  },
  {
   "cell_type": "code",
   "execution_count": 2,
   "metadata": {
    "collapsed": true
   },
   "outputs": [],
   "source": [
    "#read CSV\n",
    "vg_data = pd.read_csv('vgsales.csv',low_memory=False)\n"
   ]
  },
  {
   "cell_type": "code",
   "execution_count": 3,
   "metadata": {
    "collapsed": false
   },
   "outputs": [
    {
     "name": "stdout",
     "output_type": "stream",
     "text": [
      "<class 'pandas.core.frame.DataFrame'>\n",
      "RangeIndex: 16332 entries, 0 to 16331\n",
      "Data columns (total 11 columns):\n",
      "Rank            16332 non-null int64\n",
      "Name            16332 non-null object\n",
      "Platform        16332 non-null object\n",
      "Year            16327 non-null object\n",
      "Genre           16332 non-null object\n",
      "Publisher       16295 non-null object\n",
      "NA_Sales        16332 non-null float64\n",
      "EU_Sales        16332 non-null float64\n",
      "JP_Sales        16332 non-null float64\n",
      "Other_Sales     16332 non-null float64\n",
      "Global_Sales    16330 non-null float64\n",
      "dtypes: float64(5), int64(1), object(5)\n",
      "memory usage: 1.4+ MB\n"
     ]
    }
   ],
   "source": [
    "#list CSV data\n",
    "vg_data.info()"
   ]
  },
  {
   "cell_type": "code",
   "execution_count": 4,
   "metadata": {
    "collapsed": false
   },
   "outputs": [],
   "source": [
    "#Drop unneeded columns, only show global sales\n",
    "vg_data = vg_data.drop(['Rank','Name', 'NA_Sales', 'EU_Sales', 'JP_Sales', 'Other_Sales'], axis=1)"
   ]
  },
  {
   "cell_type": "code",
   "execution_count": 5,
   "metadata": {
    "collapsed": false
   },
   "outputs": [],
   "source": [
    "# Change data columns\n",
    "def order(frame,var):\n",
    "    varlist =[col for col in frame.columns if col not in var]\n",
    "    frame = frame[var + varlist]\n",
    "    return frame\n",
    "\n",
    "#order the columns\n",
    "vg_data = order(vg_data,['Year','Platform','Publisher', 'Genre','Global_Sales'])"
   ]
  },
  {
   "cell_type": "code",
   "execution_count": 6,
   "metadata": {
    "collapsed": false
   },
   "outputs": [
    {
     "name": "stdout",
     "output_type": "stream",
     "text": [
      "Sports    2306\n",
      "Name: Genre, dtype: int64\n"
     ]
    }
   ],
   "source": [
    "# Filter only sports genre\n",
    "sports_genre = (vg_data['Genre'] == \"Sports\")\n",
    "vg_data = vg_data[sports_genre]\n",
    "print (vg_data.Genre.value_counts())"
   ]
  },
  {
   "cell_type": "code",
   "execution_count": 7,
   "metadata": {
    "collapsed": false
   },
   "outputs": [
    {
     "name": "stdout",
     "output_type": "stream",
     "text": [
      "Sports data (rows, columns): (2306, 5)\n",
      "Null values:\n",
      "\n",
      "Year            2\n",
      "Platform        0\n",
      "Publisher       0\n",
      "Genre           0\n",
      "Global_Sales    0\n",
      "dtype: int64\n",
      "______________\n",
      "\n",
      "<class 'pandas.core.frame.DataFrame'>\n",
      "Int64Index: 2306 entries, 5 to 16328\n",
      "Data columns (total 5 columns):\n",
      "Year            2304 non-null object\n",
      "Platform        2306 non-null object\n",
      "Publisher       2306 non-null object\n",
      "Genre           2306 non-null object\n",
      "Global_Sales    2306 non-null float64\n",
      "dtypes: float64(1), object(4)\n",
      "memory usage: 108.1+ KB\n",
      "None\n",
      "______________\n",
      "\n"
     ]
    }
   ],
   "source": [
    "print (\"Sports data (rows, columns):\", vg_data.shape)\n",
    "print (\"Null values:\\n\")\n",
    "print (vg_data.isnull().sum())\n",
    "print (\"______________\\n\")\n",
    "print (vg_data.info())\n",
    "print (\"______________\\n\")"
   ]
  },
  {
   "cell_type": "code",
   "execution_count": 8,
   "metadata": {
    "collapsed": false
   },
   "outputs": [
    {
     "name": "stdout",
     "output_type": "stream",
     "text": [
      "Genre               Publisher Platform  Year  Sports\n",
      "0                         3DO       PS  2000    0.58\n",
      "1                         3DO       PS  2001    0.04\n",
      "2                         3DO      PS2  2001    0.14\n",
      "3                         3DO      PS2  2002    0.37\n",
      "4                         3DO      PS2  2003    0.36\n",
      "5                         3DO       XB  2003    0.08\n",
      "6                     49Games     X360  2009    0.04\n",
      "7                   505 Games       DS  2007    0.17\n",
      "8                   505 Games       DS  2008    0.05\n",
      "9                   505 Games       DS  2009    0.06\n",
      "10                  505 Games       PC  2016    0.02\n",
      "11                  505 Games      PS2  2005    0.12\n",
      "12                  505 Games      PS2  2007    0.40\n",
      "13                  505 Games      PS3  2010    0.78\n",
      "14                  505 Games      PS3  2011    0.33\n",
      "15                  505 Games      PS4  2016    0.23\n",
      "16                  505 Games      PSP  2007    0.21\n",
      "17                  505 Games      Wii  2007    0.69\n",
      "18                  505 Games      Wii  2008    0.09\n",
      "19                  505 Games      Wii  2009    0.73\n",
      "20                  505 Games      Wii  2010    6.81\n",
      "21                  505 Games     X360  2010    2.93\n",
      "22                  505 Games     X360  2011    0.39\n",
      "23                  505 Games     X360  2012    0.19\n",
      "24                  505 Games     XOne  2016    0.12\n",
      "25                 989 Sports       PS  1999    0.38\n",
      "26                989 Studios       PS  1997    0.43\n",
      "27                989 Studios       PS  1998    5.46\n",
      "28                989 Studios       PS  1999    3.08\n",
      "29                  ASC Games       PS  1998    0.66\n",
      "...                       ...      ...   ...     ...\n",
      "1094       Virgin Interactive       PS  1996    0.12\n",
      "1095       Virgin Interactive       PS  1997    0.05\n",
      "1096       Virtual Play Games      Wii  2010    0.02\n",
      "1097            Vivendi Games       GC  2002    0.05\n",
      "1098            Vivendi Games       XB  2003    0.06\n",
      "1099                 XS Games      GBA  2004    0.01\n",
      "1100                 XS Games      Wii  2008    0.02\n",
      "1101                 XS Games      Wii  2009    0.49\n",
      "1102                 XS Games      Wii  2010    0.24\n",
      "1103                 XS Games     X360  2009    0.21\n",
      "1104        Xicat Interactive      PS2  2002    0.11\n",
      "1105   Zoo Digital Publishing       DS  2006    0.07\n",
      "1106   Zoo Digital Publishing       DS  2007    0.03\n",
      "1107   Zoo Digital Publishing      GBA  2004    0.09\n",
      "1108   Zoo Digital Publishing      PS2  2002    0.21\n",
      "1109   Zoo Digital Publishing      PS2  2003    1.17\n",
      "1110   Zoo Digital Publishing      PS2  2004    0.42\n",
      "1111   Zoo Digital Publishing      PS2  2005    0.35\n",
      "1112   Zoo Digital Publishing      Wii  2007    0.02\n",
      "1113   Zoo Digital Publishing      Wii  2008    0.12\n",
      "1114   Zoo Digital Publishing      Wii  2009    0.08\n",
      "1115   Zoo Digital Publishing       XB  2003    0.35\n",
      "1116   Zoo Digital Publishing       XB  2004    0.16\n",
      "1117   Zoo Digital Publishing       XB  2005    0.10\n",
      "1118                Zoo Games      Wii  2010    0.48\n",
      "1119              Zushi Games      Wii  2008    0.36\n",
      "1120              Zushi Games      Wii  2009    0.30\n",
      "1121              Zushi Games     X360  2009    0.21\n",
      "1122             responDESIGN      PS2  2005    0.04\n",
      "1123             responDESIGN       XB  2004    0.09\n",
      "\n",
      "[1124 rows x 4 columns]\n",
      "<class 'pandas.core.frame.DataFrame'>\n",
      "RangeIndex: 1124 entries, 0 to 1123\n",
      "Data columns (total 4 columns):\n",
      "Publisher    1124 non-null object\n",
      "Platform     1124 non-null object\n",
      "Year         1124 non-null object\n",
      "Sports       1124 non-null float64\n",
      "dtypes: float64(1), object(3)\n",
      "memory usage: 35.2+ KB\n",
      "None\n",
      "(1124, 4)\n"
     ]
    }
   ],
   "source": [
    "# Table-lizing the raw data\n",
    "# Previously there are 2306 rows of data but after grouping\n",
    "# data that have the same year into one there will be 1124 rows\n",
    "vg_sale = pd.pivot_table(vg_data,\n",
    "                                index=['Publisher','Platform','Year'],\n",
    "                                columns=['Genre'],\n",
    "                                values=['Global_Sales'], aggfunc=sum)\n",
    "\n",
    "vg_sale = vg_sale['Global_Sales'].reset_index()\n",
    "print(vg_sale)\n",
    "print (vg_sale.info())\n",
    "print (vg_sale.shape)"
   ]
  },
  {
   "cell_type": "code",
   "execution_count": null,
   "metadata": {
    "collapsed": false
   },
   "outputs": [],
   "source": []
  },
  {
   "cell_type": "code",
   "execution_count": 9,
   "metadata": {
    "collapsed": false
   },
   "outputs": [],
   "source": [
    "# Making report date the index\n",
    "vg_sale.sort_values(\"Year\", inplace=True)\n",
    "vg_sale.set_index(\"Year\", inplace=True)\n",
    "vg_sale.index = pd.to_datetime(vg_sale.index)\n",
    "vg_sale['year']  = vg_sale.index.year"
   ]
  },
  {
   "cell_type": "code",
   "execution_count": null,
   "metadata": {
    "collapsed": false
   },
   "outputs": [],
   "source": []
  },
  {
   "cell_type": "code",
   "execution_count": 10,
   "metadata": {
    "collapsed": false
   },
   "outputs": [],
   "source": [
    "#sports colum actaully refers to global_sales for sports, it will store global sales\n",
    "vg_sale['Sports'].fillna(0, inplace=True)\n",
    "vg_sale['Sports'] = vg_sale.Sports.astype(float)"
   ]
  },
  {
   "cell_type": "code",
   "execution_count": 11,
   "metadata": {
    "collapsed": false
   },
   "outputs": [
    {
     "name": "stdout",
     "output_type": "stream",
     "text": [
      "<class 'pandas.core.frame.DataFrame'>\n",
      "DatetimeIndex: 1124 entries, 1980-01-01 to 2016-01-01\n",
      "Data columns (total 4 columns):\n",
      "Publisher    1124 non-null object\n",
      "Platform     1124 non-null object\n",
      "Sports       1124 non-null float64\n",
      "year         1124 non-null int32\n",
      "dtypes: float64(1), int32(1), object(2)\n",
      "memory usage: 39.5+ KB\n",
      "None\n",
      "______________\n",
      "\n",
      "(1124, 4)\n"
     ]
    }
   ],
   "source": [
    "print (vg_sale.info())\n",
    "print (\"______________\\n\")\n",
    "print (vg_sale.shape)"
   ]
  },
  {
   "cell_type": "code",
   "execution_count": 12,
   "metadata": {
    "collapsed": false
   },
   "outputs": [],
   "source": [
    "# Creating data frame graphs by publisher, year\n",
    "vg_sale.index.names = ['date']\n",
    "vg_sale = vg_sale.reset_index()\n",
    "sports_globalsales_groupby = vg_sale.groupby(['Publisher','date']).sum()\n"
   ]
  },
  {
   "cell_type": "code",
   "execution_count": 13,
   "metadata": {
    "collapsed": true
   },
   "outputs": [],
   "source": [
    "sports_globalsales_groupby = sports_globalsales_groupby.reset_index()"
   ]
  },
  {
   "cell_type": "code",
   "execution_count": 14,
   "metadata": {
    "collapsed": false
   },
   "outputs": [
    {
     "name": "stdout",
     "output_type": "stream",
     "text": [
      "Index(['Publisher', 'date', 'Sports', 'year'], dtype='object', name='Genre')\n",
      "Genre Publisher       date  Sports  year\n",
      "0           3DO 2000-01-01    0.58  2000\n",
      "1           3DO 2001-01-01    0.18  4002\n",
      "2           3DO 2002-01-01    0.37  2002\n"
     ]
    }
   ],
   "source": [
    "print (sports_globalsales_groupby.columns)\n",
    "print (sports_globalsales_groupby.head(3))\n",
    "\n"
   ]
  },
  {
   "cell_type": "code",
   "execution_count": 15,
   "metadata": {
    "collapsed": true
   },
   "outputs": [],
   "source": [
    "# Plotting the graph (graph style is ggplot)\n",
    "matplotlib.style.use('ggplot')\n",
    "def graph_draw(data, column, seq):\n",
    "    row = data[column].unique()\n",
    "    fig = plt.figure(figsize=(12,8))\n",
    "    ax = fig.gca()\n",
    "    for i in row:\n",
    "        dataf = data[data[column] == i]\n",
    "        dataf = dataf.set_index('date')\n",
    "        \n",
    "        ax.plot(dataf['Sports'], lw=1, linestyle='dashed', marker='o',markerfacecolor='red', markersize=5, label=\"Global Sales for %s\"%i)\n",
    "\n",
    "    plt.legend(loc='best', fontsize=10, bbox_to_anchor=(0., 1.02, 1., .102), ncol=3)\n",
    "    plt.xlabel('\\nTime progression in %s'%seq)\n",
    "    plt.ylabel(\"Total global Sales\\n\")\n",
    "    plt.show()"
   ]
  },
  {
   "cell_type": "code",
   "execution_count": 16,
   "metadata": {
    "collapsed": false
   },
   "outputs": [],
   "source": [
    "graph_draw(sports_globalsales_groupby, 'Publisher', 'years')"
   ]
  },
  {
   "cell_type": "code",
   "execution_count": 17,
   "metadata": {
    "collapsed": false
   },
   "outputs": [
    {
     "name": "stdout",
     "output_type": "stream",
     "text": [
      "This is the dataset parameter from vg_sale table\n",
      "<class 'pandas.core.frame.DataFrame'>\n",
      "RangeIndex: 1124 entries, 0 to 1123\n",
      "Data columns (total 4 columns):\n",
      "Publisher    1124 non-null int64\n",
      "Platform     1124 non-null int64\n",
      "Sports       1124 non-null float64\n",
      "year         1124 non-null int32\n",
      "dtypes: float64(1), int32(1), int64(2)\n",
      "memory usage: 30.8 KB\n",
      "None\n"
     ]
    }
   ],
   "source": [
    "\n",
    "# We want to predict and train for global sales value, from vg_sale table we need to transform string data type of \"publisher\" and \"platform\" to digits\n",
    "def convert(data):\n",
    "    number = LabelEncoder()\n",
    "    data['Publisher'] = number.fit_transform(data.Publisher)\n",
    "    data['Platform'] = number.fit_transform(data.Platform)\n",
    "    data=data.fillna(-999)\n",
    "    return data\n",
    "\n",
    "#We want to copy and convert all the dataset except unnecerssary datetime64 of \"date\" column.\n",
    "encoded = convert(vg_sale.drop('date', axis=1))\n",
    "\n",
    "#print out encode parameters\n",
    "print(\"This is the dataset parameter from vg_sale table\")\n",
    "print(encoded.info())\n",
    "\n",
    "vg_sale_data = encoded.values\n",
    "\n",
    "# Training the machine\n",
    "X = vg_sale_data[:,:3]\n",
    "y = vg_sale_data[:, 1]\n",
    "test_size = 0.4\n",
    "rand_seed = 10\n",
    "X_train, X_test, y_train, y_test = train_test_split(X, y, test_size=test_size, random_state=rand_seed)"
   ]
  },
  {
   "cell_type": "code",
   "execution_count": 18,
   "metadata": {
    "collapsed": false
   },
   "outputs": [
    {
     "name": "stdout",
     "output_type": "stream",
     "text": [
      "GauNB:\t0.992602 (0.012814)\n",
      "Rfors:\t0.796435 (0.082822)\n",
      "Dtree:\t0.998529 (0.006410)\n",
      "SVMac:\t0.669251 (0.091834)\n",
      "KNbor:\t0.508824 (0.095132)\n",
      "LogRg:\t0.310339 (0.076971)\n"
     ]
    }
   ],
   "source": [
    "# Algorithms\n",
    "algorithms = []\n",
    "algorithms.append(('GauNB', GaussianNB()))\n",
    "algorithms.append(('Rfors', RandomForestClassifier()))\n",
    "algorithms.append(('Dtree', DecisionTreeClassifier()))\n",
    "algorithms.append(('SVMac', SVC()))\n",
    "algorithms.append(('KNbor', KNeighborsClassifier()))\n",
    "algorithms.append(('LogRg', LogisticRegression()))\n",
    "\n",
    "# Cross validation with k-fold\n",
    "k_folds = 20\n",
    "scoring = 'accuracy'\n",
    "\n",
    "# Run and print output for every algorithm\n",
    "results = []\n",
    "names   = []\n",
    "for name, algorithm in algorithms:\n",
    "    kfold = KFold(n_splits=k_folds, random_state=rand_seed, shuffle=False)\n",
    "    cv_results = cross_val_score(algorithm, X_train, y_train, cv=kfold, scoring=scoring)\n",
    "    results.append(cv_results)\n",
    "    names.append(name)\n",
    "    output = \"%s:\\t%f (%f)\" % (name, cv_results.mean(), cv_results.std())\n",
    "    print(output)\n",
    "    \n",
    "# The box plot for algorithms used\n",
    "fig = plt.figure(figsize=(12,10))\n",
    "plt.xlabel('\\nAlgorithms Used')\n",
    "ax = fig.add_subplot(111)\n",
    "plt.boxplot(results)\n",
    "ax.set_xticklabels(names)\n",
    "plt.show()"
   ]
  },
  {
   "cell_type": "code",
   "execution_count": 19,
   "metadata": {
    "collapsed": false
   },
   "outputs": [
    {
     "name": "stdout",
     "output_type": "stream",
     "text": [
      "\n",
      "Predictions from highest accuracy to lowest:\n",
      "_____________________________________________________\n",
      "\n",
      "Decision Tree Classification Accuracy: 0.993333333333\n",
      "Decision Tree Classification Report:\n",
      "\n",
      "             precision    recall  f1-score   support\n",
      "\n",
      "        0.0       1.00      1.00      1.00         2\n",
      "        1.0       0.62      1.00      0.77         5\n",
      "        2.0       0.00      0.00      0.00         3\n",
      "        3.0       1.00      1.00      1.00        31\n",
      "        4.0       1.00      1.00      1.00         4\n",
      "        5.0       1.00      1.00      1.00        17\n",
      "        6.0       1.00      1.00      1.00        13\n",
      "        7.0       1.00      1.00      1.00         1\n",
      "        8.0       1.00      1.00      1.00        14\n",
      "        9.0       1.00      1.00      1.00         4\n",
      "       11.0       1.00      1.00      1.00        18\n",
      "       12.0       1.00      1.00      1.00        46\n",
      "       13.0       1.00      1.00      1.00        62\n",
      "       14.0       1.00      1.00      1.00        40\n",
      "       15.0       1.00      1.00      1.00        11\n",
      "       16.0       1.00      1.00      1.00        17\n",
      "       17.0       1.00      1.00      1.00        10\n",
      "       18.0       1.00      1.00      1.00         1\n",
      "       19.0       1.00      1.00      1.00        15\n",
      "       20.0       1.00      1.00      1.00        52\n",
      "       21.0       1.00      1.00      1.00         2\n",
      "       22.0       1.00      1.00      1.00        48\n",
      "       23.0       1.00      1.00      1.00        24\n",
      "       24.0       1.00      1.00      1.00        10\n",
      "\n",
      "avg / total       0.99      0.99      0.99       450\n",
      "\n",
      "\n",
      "_____________________________________________________\n",
      "\n",
      "Gaussian Naive Bayes Accuracy: 0.993333333333\n",
      "Gaussian Naive Bayes Report:\n",
      "\n",
      "             precision    recall  f1-score   support\n",
      "\n",
      "        0.0       1.00      1.00      1.00         2\n",
      "        1.0       0.71      1.00      0.83         5\n",
      "        2.0       0.00      0.00      0.00         3\n",
      "        3.0       0.97      1.00      0.98        31\n",
      "        4.0       1.00      1.00      1.00         4\n",
      "        5.0       1.00      1.00      1.00        17\n",
      "        6.0       1.00      1.00      1.00        13\n",
      "        7.0       1.00      1.00      1.00         1\n",
      "        8.0       1.00      1.00      1.00        14\n",
      "        9.0       1.00      1.00      1.00         4\n",
      "       11.0       1.00      1.00      1.00        18\n",
      "       12.0       1.00      1.00      1.00        46\n",
      "       13.0       1.00      1.00      1.00        62\n",
      "       14.0       1.00      1.00      1.00        40\n",
      "       15.0       1.00      1.00      1.00        11\n",
      "       16.0       1.00      1.00      1.00        17\n",
      "       17.0       1.00      1.00      1.00        10\n",
      "       18.0       1.00      1.00      1.00         1\n",
      "       19.0       1.00      1.00      1.00        15\n",
      "       20.0       1.00      1.00      1.00        52\n",
      "       21.0       1.00      1.00      1.00         2\n",
      "       22.0       1.00      1.00      1.00        48\n",
      "       23.0       1.00      1.00      1.00        24\n",
      "       24.0       1.00      1.00      1.00        10\n",
      "\n",
      "avg / total       0.99      0.99      0.99       450\n",
      "\n",
      "_____________________________________________________\n",
      "\n",
      "Random Forest Classification Accuracy: 0.717777777778\n",
      "Random Forest Classification Report:\n",
      "\n",
      "             precision    recall  f1-score   support\n",
      "\n",
      "        0.0       0.00      0.00      0.00         2\n",
      "        1.0       0.45      1.00      0.62         5\n",
      "        2.0       0.00      0.00      0.00         3\n",
      "        3.0       0.86      0.77      0.81        31\n",
      "        4.0       0.00      0.00      0.00         4\n",
      "        5.0       0.75      0.71      0.73        17\n",
      "        6.0       0.56      0.77      0.65        13\n",
      "        7.0       0.00      0.00      0.00         1\n",
      "        8.0       0.57      0.57      0.57        14\n",
      "        9.0       1.00      0.75      0.86         4\n",
      "       11.0       0.89      0.89      0.89        18\n",
      "       12.0       0.76      0.80      0.78        46\n",
      "       13.0       0.85      0.92      0.88        62\n",
      "       14.0       0.73      0.82      0.78        40\n",
      "       15.0       0.43      0.27      0.33        11\n",
      "       16.0       0.48      0.76      0.59        17\n",
      "       17.0       0.40      0.20      0.27        10\n",
      "       18.0       1.00      1.00      1.00         1\n",
      "       19.0       0.83      0.33      0.48        15\n",
      "       20.0       0.74      0.94      0.83        52\n",
      "       21.0       0.00      0.00      0.00         2\n",
      "       22.0       0.81      0.62      0.71        48\n",
      "       23.0       0.56      0.58      0.57        24\n",
      "       24.0       0.33      0.10      0.15        10\n",
      "\n",
      "avg / total       0.71      0.72      0.70       450\n",
      "\n",
      "_____________________________________________________\n",
      "\n"
     ]
    },
    {
     "name": "stderr",
     "output_type": "stream",
     "text": [
      "C:\\Users\\chaehyun2\\Anaconda3\\lib\\site-packages\\sklearn\\metrics\\classification.py:1135: UndefinedMetricWarning: Precision and F-score are ill-defined and being set to 0.0 in labels with no predicted samples.\n",
      "  'precision', 'predicted', average, warn_for)\n",
      "C:\\Users\\chaehyun2\\Anaconda3\\lib\\site-packages\\sklearn\\metrics\\classification.py:1135: UndefinedMetricWarning: Precision and F-score are ill-defined and being set to 0.0 in labels with no predicted samples.\n",
      "  'precision', 'predicted', average, warn_for)\n"
     ]
    },
    {
     "name": "stdout",
     "output_type": "stream",
     "text": [
      "Support Vector Classification Accuracy: 0.651111111111\n",
      "Support Vector Classification Report:\n",
      "\n",
      "             precision    recall  f1-score   support\n",
      "\n",
      "        0.0       1.00      0.50      0.67         2\n",
      "        1.0       0.67      0.80      0.73         5\n",
      "        2.0       0.00      0.00      0.00         3\n",
      "        3.0       0.96      0.74      0.84        31\n",
      "        4.0       0.00      0.00      0.00         4\n",
      "        5.0       0.56      0.59      0.57        17\n",
      "        6.0       0.80      0.62      0.70        13\n",
      "        7.0       0.00      0.00      0.00         1\n",
      "        8.0       0.91      0.71      0.80        14\n",
      "        9.0       0.60      0.75      0.67         4\n",
      "       11.0       1.00      0.50      0.67        18\n",
      "       12.0       0.55      0.61      0.58        46\n",
      "       13.0       0.64      0.66      0.65        62\n",
      "       14.0       0.72      0.70      0.71        40\n",
      "       15.0       1.00      0.09      0.17        11\n",
      "       16.0       0.65      1.00      0.79        17\n",
      "       17.0       1.00      0.20      0.33        10\n",
      "       18.0       1.00      1.00      1.00         1\n",
      "       19.0       1.00      0.33      0.50        15\n",
      "       20.0       0.47      1.00      0.64        52\n",
      "       21.0       0.00      0.00      0.00         2\n",
      "       22.0       0.76      0.79      0.78        48\n",
      "       23.0       0.67      0.42      0.51        24\n",
      "       24.0       1.00      0.20      0.33        10\n",
      "\n",
      "avg / total       0.70      0.65      0.63       450\n",
      "\n",
      "_____________________________________________________\n",
      "\n",
      "K Neighbors Classifier Accuracy: 0.517777777778\n",
      "K Neighbors Classifier Report:\n",
      "\n",
      "             precision    recall  f1-score   support\n",
      "\n",
      "        0.0       1.00      0.50      0.67         2\n",
      "        1.0       0.00      0.00      0.00         5\n",
      "        2.0       0.00      0.00      0.00         3\n",
      "        3.0       0.55      0.77      0.64        31\n",
      "        4.0       0.00      0.00      0.00         4\n",
      "        5.0       0.21      0.18      0.19        17\n",
      "        6.0       0.37      0.54      0.44        13\n",
      "        7.0       0.00      0.00      0.00         1\n",
      "        8.0       0.75      0.43      0.55        14\n",
      "        9.0       0.67      1.00      0.80         4\n",
      "       11.0       0.46      0.33      0.39        18\n",
      "       12.0       0.39      0.57      0.46        46\n",
      "       13.0       0.54      0.50      0.52        62\n",
      "       14.0       0.65      0.70      0.67        40\n",
      "       15.0       0.50      0.09      0.15        11\n",
      "       16.0       0.65      0.88      0.75        17\n",
      "       17.0       1.00      0.10      0.18        10\n",
      "       18.0       0.25      1.00      0.40         1\n",
      "       19.0       0.38      0.33      0.36        15\n",
      "       20.0       0.54      0.67      0.60        52\n",
      "       21.0       0.00      0.00      0.00         2\n",
      "       22.0       0.57      0.60      0.59        48\n",
      "       23.0       0.56      0.42      0.48        24\n",
      "       24.0       0.00      0.00      0.00        10\n",
      "\n",
      "avg / total       0.51      0.52      0.49       450\n",
      "\n",
      "_____________________________________________________\n",
      "\n",
      "Logistic Regression Classification Accuracy: 0.306666666667\n",
      "Logistic Regression Classification Report:\n",
      "\n",
      "             precision    recall  f1-score   support\n",
      "\n",
      "        0.0       0.00      0.00      0.00         2\n",
      "        1.0       0.25      0.20      0.22         5\n",
      "        2.0       0.00      0.00      0.00         3\n",
      "        3.0       0.50      0.84      0.63        31\n",
      "        4.0       0.00      0.00      0.00         4\n",
      "        5.0       0.33      0.06      0.10        17\n",
      "        6.0       0.00      0.00      0.00        13\n",
      "        7.0       0.00      0.00      0.00         1\n",
      "        8.0       0.00      0.00      0.00        14\n",
      "        9.0       0.00      0.00      0.00         4\n",
      "       11.0       0.00      0.00      0.00        18\n",
      "       12.0       0.21      0.13      0.16        46\n",
      "       13.0       0.29      0.84      0.43        62\n",
      "       14.0       0.00      0.00      0.00        40\n",
      "       15.0       0.00      0.00      0.00        11\n",
      "       16.0       0.00      0.00      0.00        17\n",
      "       17.0       0.00      0.00      0.00        10\n",
      "       18.0       0.00      0.00      0.00         1\n",
      "       19.0       0.00      0.00      0.00        15\n",
      "       20.0       0.30      1.00      0.46        52\n",
      "       21.0       0.00      0.00      0.00         2\n",
      "       22.0       0.00      0.00      0.00        48\n",
      "       23.0       0.00      0.00      0.00        24\n",
      "       24.0       0.00      0.00      0.00        10\n",
      "\n",
      "avg / total       0.15      0.31      0.18       450\n",
      "\n",
      "_____________________________________________________\n",
      "\n"
     ]
    }
   ],
   "source": [
    "# Display predictions from highest accuracy to lowest\n",
    "print(\"\\nPredictions from highest accuracy to lowest:\")\n",
    "print(\"_____________________________________________________\\n\")\n",
    "\n",
    "# Decision Tree Classifier\n",
    "dtree =  DecisionTreeClassifier().fit(X_train, y_train)\n",
    "dtree_predictions = dtree.predict(X_test)\n",
    "dtree_report = classification_report(y_test, dtree_predictions)\n",
    "print(\"Decision Tree Classification Accuracy: %s\" % accuracy_score(y_test, dtree_predictions))\n",
    "print(\"Decision Tree Classification Report:\\n\\n%s\\n\" % dtree_report)\n",
    "print(\"_____________________________________________________\\n\")\n",
    "\n",
    "# Gaussian Naive Bayes\n",
    "bayes = GaussianNB().fit(X_train, y_train)\n",
    "bayes_predictions = bayes.predict(X_test)\n",
    "bayes_report = classification_report(y_test, bayes_predictions)\n",
    "print(\"Gaussian Naive Bayes Accuracy: %s\" % accuracy_score(y_test, bayes_predictions))\n",
    "print(\"Gaussian Naive Bayes Report:\\n\\n%s\" % bayes_report)\n",
    "print(\"_____________________________________________________\\n\")\n",
    "\n",
    "#Random Forest Classifier\n",
    "rfors = RandomForestClassifier().fit(X_train, y_train)\n",
    "rfors_predictions = rfors.predict(X_test)\n",
    "rfors_report = classification_report(y_test, rfors_predictions)\n",
    "print(\"Random Forest Classification Accuracy: %s\" % accuracy_score(y_test, rfors_predictions))\n",
    "print(\"Random Forest Classification Report:\\n\\n%s\" % rfors_report)\n",
    "print(\"_____________________________________________________\\n\")\n",
    "\n",
    "# Support Vector Classification\n",
    "svm = SVC().fit(X_train, y_train)\n",
    "svm_predictions = svm.predict(X_test)\n",
    "svm_report = classification_report(y_test, svm_predictions)\n",
    "print(\"Support Vector Classification Accuracy: %s\" % accuracy_score(y_test, svm_predictions))\n",
    "print(\"Support Vector Classification Report:\\n\\n%s\" % svm_report)\n",
    "print(\"_____________________________________________________\\n\")\n",
    "\n",
    "# K Neighbors Classifier\n",
    "kneighbor = KNeighborsClassifier().fit(X_train, y_train)\n",
    "kneighbor_predictions = kneighbor.predict(X_test)\n",
    "kneighbor_report = classification_report(y_test, kneighbor_predictions)\n",
    "print(\"K Neighbors Classifier Accuracy: %s\" % accuracy_score(y_test, kneighbor_predictions))\n",
    "print(\"K Neighbors Classifier Report:\\n\\n%s\" % kneighbor_report)\n",
    "print(\"_____________________________________________________\\n\")\n",
    "\n",
    "\n",
    "# Logistic Regression\n",
    "logrg = LogisticRegression().fit(X_train, y_train)\n",
    "logrg_predictions = logrg.predict(X_test)\n",
    "logrg_report = classification_report(y_test, logrg_predictions)\n",
    "print(\"Logistic Regression Classification Accuracy: %s\" % accuracy_score(y_test, logrg_predictions))\n",
    "print(\"Logistic Regression Classification Report:\\n\\n%s\" % logrg_report)\n",
    "print(\"_____________________________________________________\\n\")"
   ]
  },
  {
   "cell_type": "code",
   "execution_count": null,
   "metadata": {
    "collapsed": false
   },
   "outputs": [],
   "source": []
  },
  {
   "cell_type": "code",
   "execution_count": null,
   "metadata": {
    "collapsed": false
   },
   "outputs": [],
   "source": []
  },
  {
   "cell_type": "code",
   "execution_count": null,
   "metadata": {
    "collapsed": true
   },
   "outputs": [],
   "source": []
  }
 ],
 "metadata": {
  "anaconda-cloud": {},
  "kernelspec": {
   "display_name": "Python [Root]",
   "language": "python",
   "name": "Python [Root]"
  },
  "language_info": {
   "codemirror_mode": {
    "name": "ipython",
    "version": 3
   },
   "file_extension": ".py",
   "mimetype": "text/x-python",
   "name": "python",
   "nbconvert_exporter": "python",
   "pygments_lexer": "ipython3",
   "version": "3.5.2"
  }
 },
 "nbformat": 4,
 "nbformat_minor": 0
}
